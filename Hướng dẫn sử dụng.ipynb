{
 "cells": [
  {
   "cell_type": "code",
   "execution_count": null,
   "id": "bf6a4a4e",
   "metadata": {},
   "outputs": [],
   "source": [
    "Cài extension spring boot pack trong vscode\n",
    "\n",
    "cài extension java pack trong vs code"
   ]
  },
  {
   "cell_type": "code",
   "execution_count": null,
   "id": "38b0782d",
   "metadata": {},
   "outputs": [],
   "source": [
    "Mở Sql server management studio\n",
    "\n",
    "Gpt : lệnh để tạo người dùng super amdin với username=a0000, password= a0000;\n",
    "\n",
    "Gpt : lệnh để tạo database có tên là DemoKDLv1"
   ]
  },
  {
   "cell_type": "markdown",
   "id": "85e33365",
   "metadata": {},
   "source": [
    "----\n",
    "\n",
    "### chỉnh sửa tham số\n",
    "\n",
    "vào <a href=\"Folder project\\demoKDLv1\\src\\main\\java\\com\\example\\demoKDLv1\\Layer_Faker\\Faker_Controller.java\">Folder project\\demoKDLv1\\src\\main\\java\\com\\example\\demoKDLv1\\Layer_Faker\\Faker_Controller.java </a> \n",
    "\n",
    "vào mục \n",
    "\n",
    "<blockquote>\n",
    "\n",
    "```java\n",
    "@PostMapping(\"/Faker/CreateAll/sendForm\")\n",
    "public String postAtFakerCreateAllView(Model model){\n",
    "    SoluongConfig soluongConfig= new SoluongConfig();\n",
    "```\n",
    "</blockquote>\n",
    "\n",
    "để chỉnh sửa tham số\n"
   ]
  },
  {
   "cell_type": "markdown",
   "id": "d6755ed1",
   "metadata": {},
   "source": [
    "mở <a href=\"Folder project\\demoKDLv1\\src\\main\\java\\com\\example\\demoKDLv1\\DemoKdLv1Application.java\">Folder project\\demoKDLv1\\src\\main\\java\\com\\example\\demoKDLv1\\DemoKdLv1Application.java</a>\n",
    "\n",
    "ấn chuột phải-> Run java"
   ]
  },
  {
   "cell_type": "code",
   "execution_count": null,
   "id": "548b65e5",
   "metadata": {},
   "outputs": [],
   "source": [
    "mở : http://127.0.0.1:8081/Faker\n",
    "\n",
    "giao diện đó chỉ có 1 nút, ấn tiếp"
   ]
  }
 ],
 "metadata": {
  "language_info": {
   "name": "python"
  }
 },
 "nbformat": 4,
 "nbformat_minor": 5
}
