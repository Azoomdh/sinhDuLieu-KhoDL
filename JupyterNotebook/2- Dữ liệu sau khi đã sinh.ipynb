{
 "cells": [
  {
   "cell_type": "code",
   "execution_count": null,
   "id": "63c10962",
   "metadata": {},
   "outputs": [],
   "source": [
    "Sinh MHDD tại thời điểm hiện tại \n",
    "\n",
    "Sinh MHDLT tại thời điểm hiện tại\n",
    "\n",
    "Sinh Khách hàng"
   ]
  },
  {
   "cell_type": "code",
   "execution_count": null,
   "id": "c764aee9",
   "metadata": {},
   "outputs": [],
   "source": [
    "# sinh MHDD\n",
    "\n",
    "1. chọn ngẫu nhiên N khách hàng có sẵn= listKhachHang[]\n",
    "2. mỗi kh1 in listKhachHang : tạo 1 đơn hàng\n",
    "    2.1. mỗi đơn hàng tạo N lượt mua hàng"
   ]
  },
  {
   "cell_type": "code",
   "execution_count": null,
   "id": "66db90f1",
   "metadata": {},
   "outputs": [],
   "source": [
    "# sinh MHDLT\n",
    "\n",
    "1. chọn 90% cửa hàng= listCuaHang[]\n",
    "2. mỗi ch1 in listCuaHang : tạo N lượt nhập hàng "
   ]
  }
 ],
 "metadata": {
  "language_info": {
   "name": "python"
  }
 },
 "nbformat": 4,
 "nbformat_minor": 5
}
