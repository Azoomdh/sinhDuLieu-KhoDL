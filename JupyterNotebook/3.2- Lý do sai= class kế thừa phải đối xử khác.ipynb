{
 "cells": [
  {
   "cell_type": "markdown",
   "id": "0224e4df",
   "metadata": {},
   "source": [
    "# 1 \n",
    "Lỗi trạng thái của hibernate"
   ]
  },
  {
   "cell_type": "code",
   "execution_count": null,
   "id": "a90a3d1f",
   "metadata": {},
   "outputs": [],
   "source": [
    "-> sử dụng transaction\n",
    "-> sử dụng @version, (xóa bảng để tạo lại)\n",
    "-> sử dụng saveAndFlush()\n",
    "-> sử dụng EntityManager-Jpql-@PersistenceContext"
   ]
  },
  {
   "cell_type": "markdown",
   "id": "4c82c303",
   "metadata": {},
   "source": [
    "# 2\n"
   ]
  },
  {
   "cell_type": "code",
   "execution_count": null,
   "id": "c04bcd97",
   "metadata": {},
   "outputs": [],
   "source": [
    "org.springframework.dao.DataIntegrityViolationException: \n",
    "\n",
    "Detached entity with generated id '10' \n",
    "\n",
    "has an uninitialized version value 'null': \n",
    "\n",
    "com.example.demoKDLv1.Layer_Entity.KhachHangBuuDien.KhachHangBuuDien.version"
   ]
  },
  {
   "cell_type": "code",
   "execution_count": null,
   "id": "d435bf6f",
   "metadata": {},
   "outputs": [],
   "source": [
    "Hibernate: select top (?) mh1_0.mamh,mh1_0.gia,mh1_0.mota,mh1_0.size,mh1_0.thoigiannhaphang,mh1_0.trongluong,mh1_0.version from mat_hang mh1_0 order by newid()\n",
    "Hibernate: insert into mat_hang_duoc_dat (giadat,soluongdat,version,madon,mamh) values (?,?,?,?,?)\n",
    "Hibernate: insert into mat_hang_duoc_dat (giadat,soluongdat,version,madon,mamh) values (?,?,?,?,?)\n",
    "Hibernate: insert into mat_hang_duoc_dat (giadat,soluongdat,version,madon,mamh) values (?,?,?,?,?)\n",
    "Hibernate: insert into mat_hang_duoc_dat (giadat,soluongdat,version,madon,mamh) values (?,?,?,?,?)\n",
    "Hibernate: insert into mat_hang_duoc_dat (giadat,soluongdat,version,madon,mamh) values (?,?,?,?,?)\n",
    "Hibernate: insert into mat_hang_duoc_dat (giadat,soluongdat,version,madon,mamh) values (?,?,?,?,?)\n",
    "\n",
    "2025-05-05T17:21:11.577+07:00 ERROR 10512 --- [demoKDLv1] [0.1-8081-exec-6] o.a.c.c.C.[.[.[/].[dispatcherServlet]    : \n",
    "\n",
    "Servlet.service() for servlet [dispatcherServlet] in context with path [] \n",
    "\n",
    "threw exception [Request processing failed: org.springframework.dao.DataIntegrityViolationException: \n",
    "\n",
    "Detached entity with generated id '10' \n",
    "\n",
    "has an uninitialized version value 'null': \n",
    "\n",
    "com.example.demoKDLv1.Layer_Entity.KhachHangBuuDien.KhachHangBuuDien.version] with root cause\n",
    "\n",
    "org.hibernate.PropertyValueException: Detached entity with generated id '10' has an uninitialized version value 'null': com.example.demoKDLv1.Layer_Entity.KhachHangBuuDien.KhachHangBuuDien.version"
   ]
  },
  {
   "cell_type": "code",
   "execution_count": null,
   "id": "10a835af",
   "metadata": {},
   "outputs": [],
   "source": [
    "-> khởi tạo xong MHDD rồi bị lỗi (nhìn \"Hibernate:\")\n",
    "nguồn lỗi : "
   ]
  },
  {
   "cell_type": "code",
   "execution_count": null,
   "id": "55d0fe52",
   "metadata": {},
   "outputs": [],
   "source": [
    "    public KhachHang createKhachhang(VanPhongDaiDien vpdd1){\n",
    "        KhachHang kh1 = KhachHangFaker.createFakeKhachhang(vpdd1, this.allEntityConfig);\n",
    "\n",
    "        kh1 = this.kh_Service.createKhachhang(kh1);\n",
    "\n",
    "        List<DonDatHang> listDdh= \n",
    "            this.ddh_FS.createDdh(\n",
    "                kh1, \n",
    "                allEntityConfig.getKhachhang().getSoDdh().getGiaTri()\n",
    "            );\n",
    "\n",
    "        KhachHangDuLich khdl= null; \n",
    "        KhachHangBuuDien khbd= null;\n",
    "\n",
    "        Integer chooseNumber = new Random().nextInt(0, 1);\n",
    "\n",
    "        if(chooseNumber==0){\n",
    "            khbd = this.khbd_FS.createKhbd(kh1); 🟥🟥🟥🟥🟥\n",
    "        }\n",
    "\n",
    "        else{\n",
    "            khdl = this.khdl_FS.createKhdl(kh1);\n",
    "        }\n",
    "\n",
    "        return kh1;\n",
    "    }"
   ]
  },
  {
   "cell_type": "code",
   "execution_count": null,
   "id": "1384f4e3",
   "metadata": {},
   "outputs": [],
   "source": [
    "đoán = do hàm khởi tạo KHBD chưa có thêm version, do đó khbd bị null"
   ]
  },
  {
   "cell_type": "markdown",
   "id": "5c59e20d",
   "metadata": {},
   "source": [
    "# 3 trở lại lỗi 1"
   ]
  },
  {
   "cell_type": "markdown",
   "id": "c3479f4c",
   "metadata": {},
   "source": [
    "Hibernate: insert into mat_hang_duoc_dat (giadat,soluongdat,version,madon,mamh) values (?,?,?,?,?)\n",
    "Hibernate: insert into don_dat_hang (makh,ngaydathang,version) values (?,?,?)\n",
    "Hibernate: select top (?) mh1_0.mamh,mh1_0.gia,mh1_0.mota,mh1_0.size,mh1_0.thoigiannhaphang,mh1_0.trongluong,mh1_0.version from mat_hang mh1_0 order by newid()\n",
    "Hibernate: insert into mat_hang_duoc_dat (giadat,soluongdat,version,madon,mamh) values (?,?,?,?,?)\n",
    "Hibernate: insert into mat_hang_duoc_dat (giadat,soluongdat,version,madon,mamh) values (?,?,?,?,?)\n",
    "Hibernate: insert into mat_hang_duoc_dat (giadat,soluongdat,version,madon,mamh) values (?,?,?,?,?)\n",
    "Hibernate: insert into don_dat_hang (makh,ngaydathang,version) values (?,?,?)\n",
    "Hibernate: select top (?) mh1_0.mamh,mh1_0.gia,mh1_0.mota,mh1_0.size,mh1_0.thoigiannhaphang,mh1_0.trongluong,mh1_0.version from mat_hang mh1_0 order by newid()\n",
    "Hibernate: insert into mat_hang_duoc_dat (giadat,soluongdat,version,madon,mamh) values (?,?,?,?,?)\n",
    "Hibernate: insert into mat_hang_duoc_dat (giadat,soluongdat,version,madon,mamh) values (?,?,?,?,?)\n",
    "\n",
    "2025-05-05T17:49:14.301+07:00 ERROR 10512 --- \n",
    "\n",
    "[demoKDLv1] [0.1-8081-exec-3] o.a.c.c.C.[.[.[/].[dispatcherServlet]    : \n",
    "\n",
    "Servlet.service() for servlet [dispatcherServlet] \n",
    "in context with path [] \n",
    "threw exception \n",
    "[\n",
    "    Request processing failed: \n",
    "    org.springframework.orm.ObjectOptimisticLockingFailureException: \n",
    "\n",
    "    Row was updated or deleted by another transaction \n",
    "    (or unsaved-value mapping was incorrect): \n",
    "\n",
    "    [\n",
    "        com.example.demoKDLv1.Layer_Entity.KhachHangBuuDien.KhachHangBuuDien#11\n",
    "    ]\n",
    "\n",
    "] \n",
    "\n",
    "with root cause  "
   ]
  },
  {
   "cell_type": "code",
   "execution_count": null,
   "id": "7421492d",
   "metadata": {},
   "outputs": [],
   "source": [
    "https://www.baeldung.com/java-jpa-transaction-locks"
   ]
  },
  {
   "cell_type": "markdown",
   "id": "c016ff91",
   "metadata": {},
   "source": [
    "(đoán lý do)\n",
    "\n",
    "<img src=\"\\3- Tổng hợp sửa đổi\\Screenshot 2025-05-05 192520.png\"/>"
   ]
  },
  {
   "cell_type": "code",
   "execution_count": 4,
   "id": "4d57a452",
   "metadata": {},
   "outputs": [
    {
     "data": {
      "image/png": "[encoded data removed]",
      "text/plain": [
       "<IPython.core.display.Image object>"
      ]
     },
     "execution_count": 4,
     "metadata": {},
     "output_type": "execute_result"
    }
   ],
   "source": [
    "from IPython.display import Image;\n",
    "\n",
    "Image(filename=\"3- Tổng hợp sửa đổi\\\\Screenshot 2025-05-05 192520.png\")"
   ]
  },
  {
   "cell_type": "markdown",
   "id": "2fdd6962",
   "metadata": {},
   "source": [
    "Đây không phải là về khóa Optimistic. Ngoại lệ này được đưa ra khi xóa/cập nhật một bản ghi theo Id không tồn tại. Vì vậy, hãy kiểm tra xem bản ghi bạn đang cập nhật/xóa có thực sự tồn tại trong DB không.\n",
    "\n",
    "Tuy nhiên, để hiểu rõ hơn nguyên nhân gây ra vấn đề, bạn có thể:\n",
    "\n",
    "1) Đặt show_sql thành true 2) Đặt mức nhật ký cho Spring và Hibernate thành DEBUG\n",
    "\n",
    "Điều này sẽ giúp bạn hiểu được vấn đề và khắc phục nó.\n",
    "\n",
    "https://stackoverflow.com/questions/54948229/getting-objectoptimisticlockingfailureexception-without-version-annotation-or-op"
   ]
  },
  {
   "cell_type": "markdown",
   "id": "e3486894",
   "metadata": {},
   "source": [
    "https://discourse.hibernate.org/t/facing-with-objectoptimisticlocking-failureexception-after-migrating-to-hibernate-6-6-2-final/10725/10\n",
    "\n",
    "Chúng tôi đang xóa tất cả các hàng khỏi kho lưu trữ bằng cách sử dụng repo.deleteAll()và sau đó lưu dữ liệu mới bằng repo.saveAll(data). Một số dữ liệu có thể tương tự như những gì đã có trước đó trong DB (vì chúng tôi chỉ sử dụng nó trong phương pháp sao chép dữ liệu từ prod sang db cục bộ. Chúng tôi đồng ý xóa mọi thứ khỏi DB trước khi chèn bản ghi mới).\n",
    "Trước khi cập nhật, nó hoạt động tốt nhưng sau khi cập nhật, nó ObjectOptimisticLockingFailureExceptionbị báo lỗi.\n",
    "\n",
    "EDIT:\n",
    "Chúng tôi lưu các thực thể mới với các id đã được xác định. Xóa id khỏi các thực thể trước khi lưu chúng sẽ xóa ngoại lệ. Có tùy chọn nào để lưu các thực thể mới với các id đã được xác định trước và không nhận được ngoại lệ này không?"
   ]
  },
  {
   "cell_type": "code",
   "execution_count": null,
   "id": "efc4498e",
   "metadata": {},
   "outputs": [],
   "source": [
    "ý chủ comment trên = get KhachHang-> delete KhachHang -> create KHBD"
   ]
  },
  {
   "cell_type": "markdown",
   "id": "a7e636fe",
   "metadata": {},
   "source": [
    "> Lỗi\n",
    "could not execute statement [The DELETE statement conflicted with the REFERENCE constraint \"FK7f7o8batqftxfciqjvmqj50ep\". The conflict occurred in database \"DemoKDLv1\", table \"dbo.don_dat_hang\", column 'makh'.] [delete from khach_hang where makh=? and version=?]; SQL [delete from khach_hang where makh=? and version=?]; constraint [null]\n",
    "\n",
    "do khach hang có bảng DonDatHang phụ thuộc nên không xóa được"
   ]
  },
  {
   "cell_type": "markdown",
   "id": "9fd828d7",
   "metadata": {},
   "source": [
    "https://www.google.com/search?q=save+inherited+object+in+jpa+spring+boot\n",
    "\n",
    "0\n",
    "\n",
    "Hãy xem chú thích @MappedSuperclassvà InheritanceType.SINGLE_TABLE. Để đạt được chính xác những gì bạn muốn, bạn sẽ phải sử dụng một trong hai chiến lược kế thừa đó trong mã để các bảng được ánh xạ chính xác.\n",
    "\n",
    "Một số ví dụ: https://www.baeldung.com/hibernate-inheritance\n",
    "\n",
    "Ngoài ra: JPA: Triển khai Mô hình phân cấp - @MappedSuperclass so với @Inheritance"
   ]
  },
  {
   "cell_type": "markdown",
   "id": "3aabfd37",
   "metadata": {},
   "source": []
  },
  {
   "cell_type": "markdown",
   "id": "4d97556b",
   "metadata": {},
   "source": [
    "Lý do sai 1 = class kế thừa phải đối xử khác\n",
    "\n",
    "https://www.google.com/search?q=save+inherited+object+in+jpa+spring+boot"
   ]
  },
  {
   "cell_type": "markdown",
   "id": "5ae12c93",
   "metadata": {},
   "source": [
    "https://stackoverflow.com/questions/63485814/why-does-hibernate-need-to-save-the-parent-when-saving-the-child-and-cause-a-opt\n",
    "Nó KHÔNG cần trừ khi bạn cần. Hãy làm như sau:\n",
    "\n",
    "    University universityProxy = universidyRepository.getOne(universityId);\n",
    "    student.setUniversity(universityProxy);\n",
    "Để gán a, Universitybạn không cần phải tải một Universitythực thể vào ngữ cảnh. Bởi vì về mặt kỹ thuật, bạn chỉ cần lưu hồ sơ sinh viên với khóa ngoại thích hợp ( university_id). Vì vậy, khi bạn có a university_id, bạn có thể tạo proxy Hibernate bằng phương thức kho lưu trữ getOne()."
   ]
  },
  {
   "cell_type": "code",
   "execution_count": null,
   "id": "c8abd7c9",
   "metadata": {},
   "outputs": [],
   "source": [
    "clone = bọc wrapper \n",
    "\n",
    "before : return kh1;\n",
    "\n",
    "after : return this.wrapper(kh1);"
   ]
  },
  {
   "cell_type": "markdown",
   "id": "1e8fb885",
   "metadata": {},
   "source": [
    "getOne() lỗi thời, sửa dụng getReferenceById()\n",
    "\n",
    "Bạn chỉ có thể yêu javadoc củaJpaRepository.getReferenceById(ID id)"
   ]
  },
  {
   "cell_type": "markdown",
   "id": "67555443",
   "metadata": {},
   "source": [
    "tôi đang sử dụng java , tôi muốn tạo phương thức toString(a) trong 1 interface, với a có thể là bất kỳ class nào\n",
    "\n",
    "sử dụng `<T>`"
   ]
  },
  {
   "cell_type": "markdown",
   "id": "9ed2d825",
   "metadata": {},
   "source": [
    "tôi đang sử dụng java , tôi muốn tạo phương thức toString(listA) trong 1 interface, với a có thể là bất kỳ loại collection nào\n",
    "\n",
    "sử dụng `Collection<T>`"
   ]
  },
  {
   "cell_type": "markdown",
   "id": "ade66deb",
   "metadata": {},
   "source": [
    "https://stackoverflow.com/questions/53777766/updating-child-entity-but-saving-parent-entity-leads-to-objectoptimisticlockingf?rq=3\n",
    "\n",
    "ChildTất nhiên là nên thêm kho lưu trữ cho chính nó nhưng tôi nghi ngờ rằng nó sẽ giải quyết được vấn đề của bạn.\n",
    "\n",
    "Bạn vẫn phải cập nhật phần cha mẹ với phần con nên bạn vẫn có hai parentRepository.save(parent);hành động nếu tôi hiểu đúng trường hợp của bạn. Vì vậy, dù sao thì bạn cũng sẽ kết thúc với một OptimisticLockExceptiontại một thời điểm nào đó.\n",
    "\n",
    "Tôi chỉ đơn giản áp dụng quy trình chung để xử lý loại ngoại lệ đó như sau:\n",
    "\n",
    "Bắt đượcOptimisticLockException\n",
    "Hợp nhất thực thể mà lưu ngoại lệ đã xảy ra\n",
    "Thử lại persist / update một lần nữa"
   ]
  },
  {
   "cell_type": "code",
   "execution_count": null,
   "id": "2db27c51",
   "metadata": {},
   "outputs": [],
   "source": [
    "        // thử 10 lần\n",
    "        int maxTry = 10;\n",
    "        for(int i=0; i< maxTry; i++){\n",
    "\n",
    "            // tạo KHBD hoặc KHDL\n",
    "            try {\n",
    "                KhachHangDuLich khdl= null;\n",
    "                KhachHangBuuDien khbd= null;\n",
    "\n",
    "                Integer chooseNumber = new Random().nextInt(0, 1);\n",
    "\n",
    "                if(chooseNumber==0){\n",
    "                    khbd = this.khbd_FS.createKhbd(kh1);\n",
    "                }\n",
    "\n",
    "                else{\n",
    "                    khdl = this.khdl_FS.createKhdl(kh1);\n",
    "                }\n",
    "            }\n",
    "            \n",
    "            catch (ObjectOptimisticLockingFailureException e) {\n",
    "                // nothing \n",
    "            }\n",
    "\n",
    "            // ngủ 2 s\n",
    "            try {\n",
    "                Thread.sleep(2000);\n",
    "                System.out.println(\"\\n\\n\\n\\n 🟩🟩🟩🟩 sleep in 2 s 🟩🟩🟩🟩 \\n\\n\\n\\n\\n\");\n",
    "            } catch (InterruptedException e) {\n",
    "                e.printStackTrace();\n",
    "            }\n",
    "        }"
   ]
  },
  {
   "cell_type": "markdown",
   "id": "369c3bde",
   "metadata": {},
   "source": [
    "> # vẫn không tạo được KHBD KHDL"
   ]
  },
  {
   "cell_type": "code",
   "execution_count": null,
   "id": "bfaa9d55",
   "metadata": {
    "vscode": {
     "languageId": "java"
    }
   },
   "outputs": [],
   "source": [
    "public KhachHang createKhachhang(VanPhongDaiDien vpdd1){\n",
    "    KhachHang kh1 = KhachHangFaker.createFakeKhachhang(vpdd1, this.allEntityConfig);\n",
    "\n",
    "\n",
    "\n",
    "    kh1 = this.kh_Service.createKhachhang(kh1); // 🔸🔸🔸 chạy hàm này tương đương với = KhachHang_Repo chiếm tài nguyên kh1 với lệnh cấm write\n",
    "\n",
    "    List<DonDatHang> listDdh= \n",
    "        this.ddh_FS.createDdh(\n",
    "            kh1, \n",
    "            allEntityConfig.getKhachhang().getSoDdh().getGiaTri()\n",
    "        );\n",
    "\n",
    "    // 🟩🟩🟩🟩🟩🟩🟩🟩🟩🟩\n",
    "    KhachHangDuLich khdl= null;\n",
    "    KhachHangBuuDien khbd= null;\n",
    "\n",
    "    Integer chooseNumber = new Random().nextInt(0, 1);\n",
    "\n",
    "    if(chooseNumber==0){\n",
    "        khbd = this.khbd_FS.createKhbd(kh1);// 🔸🔸🔸 chạy hàm này tương đương với = KhachHangDuLich_Repo chiếm tài nguyên kh1 với quyền write = 🟥 xung đột\n",
    "\n",
    "    }\n",
    "\n",
    "    else{\n",
    "        khdl = this.khdl_FS.createKhdl(kh1);// 🔸🔸🔸 tương tự\n",
    "\n",
    "    }\n",
    "    // 🟩🟩🟩🟩🟩🟩🟩🟩🟩🟩 \n",
    "\n",
    "\n",
    "\n",
    "\n",
    "    return kh1;\n",
    "}"
   ]
  },
  {
   "cell_type": "code",
   "execution_count": null,
   "id": "37c12697",
   "metadata": {
    "vscode": {
     "languageId": "java"
    }
   },
   "outputs": [],
   "source": [
    "(giấu lỗi)"
   ]
  },
  {
   "cell_type": "code",
   "execution_count": null,
   "metadata": {
    "vscode": {
     "languageId": "java"
    }
   },
   "outputs": [],
   "source": [
    "\n",
    "public KhachHang createKhachhang(VanPhongDaiDien vpdd1){\n",
    "    KhachHang kh1 = KhachHangFaker.createFakeKhachhang(vpdd1, this.allEntityConfig);\n",
    "\n",
    "    // 🟩🟩🟩🟩🟩🟩🟩🟩🟩🟩\n",
    "    KhachHangDuLich khdl= null;\n",
    "    KhachHangBuuDien khbd= null;\n",
    "\n",
    "    Integer chooseNumber = new Random().nextInt(0, 1);\n",
    "\n",
    "    if(chooseNumber==0){\n",
    "        khbd = this.khbd_FS.createKhbd(kh1);\n",
    "\n",
    "        kh1= this.kh_Service.getKhachhangById(khbd.getMaKH());\n",
    "    }\n",
    "\n",
    "    else{\n",
    "        khdl = this.khdl_FS.createKhdl(kh1);\n",
    "\n",
    "        kh1= this.kh_Service.getKhachhangById(khdl.getMaKH());\n",
    "    }\n",
    "    // 🟩🟩🟩🟩🟩🟩🟩🟩🟩🟩 \n",
    "\n",
    "    // kh1 = this.kh_Service.createKhachhang(kh1);\n",
    "\n",
    "    List<DonDatHang> listDdh= \n",
    "        this.ddh_FS.createDdh(\n",
    "            kh1, \n",
    "            allEntityConfig.getKhachhang().getSoDdh().getGiaTri()\n",
    "        );\n",
    "\n",
    "    return kh1;\n",
    "}\n"
   ]
  }
 ],
 "metadata": {
  "kernelspec": {
   "display_name": "Python 3",
   "language": "python",
   "name": "python3"
  },
  "language_info": {
   "codemirror_mode": {
    "name": "ipython",
    "version": 3
   },
   "file_extension": ".py",
   "mimetype": "text/x-python",
   "name": "python",
   "nbconvert_exporter": "python",
   "pygments_lexer": "ipython3",
   "version": "3.13.3"
  }
 },
 "nbformat": 4,
 "nbformat_minor": 5
}
