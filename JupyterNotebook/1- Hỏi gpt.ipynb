{
 "cells": [
  {
   "cell_type": "markdown",
   "id": "4cfbb11a",
   "metadata": {},
   "source": [
    "<img src=\"Biểu đồ minh họa\\Bảng trung gian của quan hệ N2N.drawio.png\" />\n",
    "\n",
    "<img src=\"Ảnh\\DemoKDLv1\\image.png\"/>"
   ]
  },
  {
   "cell_type": "markdown",
   "id": "d5441603",
   "metadata": {},
   "source": [
    "> https://www.baeldung.com/jpa-many-to-many\n",
    "\n",
    "trong bài viết này, nếu sử dụng embeded id thì khi thêm một bản ghi sẽ như thế nào\n",
    "\n",
    "<details>\n",
    "\n",
    "Bài viết mà bạn tham khảo trên Baeldung giải thích về quan hệ \"Many-to-Many\" trong JPA. Khi sử dụng `@EmbeddedId` để thay thế cho khóa chính composite (bao gồm nhiều trường), quá trình thêm bản ghi vào bảng liên kết (join table) sẽ khác so với khi bạn sử dụng một khóa chính đơn lẻ.\n",
    "\n",
    "### Tóm tắt về `@EmbeddedId`\n",
    "\n",
    "`@EmbeddedId` được sử dụng để chỉ định rằng khóa chính của bảng liên kết là một đối tượng (class) được nhúng vào, thay vì chỉ dùng một khóa chính đơn lẻ. Đối tượng này sẽ bao gồm các trường của khóa chính composite.\n",
    "\n",
    "Giả sử bạn có một mối quan hệ \"Many-to-Many\" giữa hai thực thể `Student` và `Course`. Để biểu diễn quan hệ này, bạn sẽ có một bảng liên kết (`student_course`) với khóa chính composite.\n",
    "\n",
    "Ví dụ:\n",
    "```java\n",
    "@Embeddable\n",
    "public class StudentCourseId implements Serializable {\n",
    "    private Long studentId;\n",
    "    private Long courseId;\n",
    "\n",
    "    // constructors, equals, hashcode methods\n",
    "}\n",
    "\n",
    "@Entity\n",
    "public class StudentCourse {\n",
    "    @EmbeddedId\n",
    "    private StudentCourseId id;\n",
    "    \n",
    "    @ManyToOne\n",
    "    @MapsId(\"studentId\")\n",
    "    private Student student;\n",
    "\n",
    "    @ManyToOne\n",
    "    @MapsId(\"courseId\")\n",
    "    private Course course;\n",
    "}\n",
    "```\n",
    "\n",
    "### Quá trình thêm bản ghi khi sử dụng `@EmbeddedId`\n",
    "\n",
    "Khi sử dụng `@EmbeddedId`, bạn không trực tiếp thao tác với khóa chính đơn lẻ (như `student_id`, `course_id`), mà sẽ thao tác với đối tượng khóa chính composite `StudentCourseId`. Khi bạn muốn thêm một bản ghi vào bảng liên kết, bạn cần tạo ra một đối tượng `StudentCourseId`, sau đó gán vào đối tượng `StudentCourse`.\n",
    "\n",
    "Giả sử bạn có một sinh viên `student` và một khóa học `course`, bạn muốn lưu một bản ghi vào bảng `student_course`:\n",
    "\n",
    "```java\n",
    "Student student = ...;  // Lấy thông tin sinh viên\n",
    "Course course = ...;    // Lấy thông tin khóa học\n",
    "\n",
    "// Tạo đối tượng khóa chính composite\n",
    "StudentCourseId studentCourseId = new StudentCourseId(student.getId(), course.getId());\n",
    "\n",
    "// Tạo đối tượng bảng liên kết\n",
    "StudentCourse studentCourse = new StudentCourse();\n",
    "studentCourse.setId(studentCourseId);\n",
    "studentCourse.setStudent(student);\n",
    "studentCourse.setCourse(course);\n",
    "\n",
    "// Lưu đối tượng vào cơ sở dữ liệu\n",
    "studentCourseRepository.save(studentCourse);\n",
    "```\n",
    "\n",
    "### Tóm tắt cách hoạt động:\n",
    "1. Bạn tạo một đối tượng `StudentCourseId` để đại diện cho khóa chính composite.\n",
    "2. Bạn gán đối tượng này vào đối tượng `StudentCourse`, sau đó thiết lập các mối quan hệ với các đối tượng `Student` và `Course`.\n",
    "3. Khi gọi `save()` trên `studentCourseRepository`, JPA sẽ sử dụng `StudentCourseId` để lưu vào bảng liên kết.\n",
    "\n",
    "### Lưu ý:\n",
    "- Mỗi bản ghi trong bảng `student_course` sẽ có một khóa chính composite từ hai trường: `student_id` và `course_id`.\n",
    "- `@MapsId` được sử dụng để liên kết các trường trong `StudentCourseId` với các trường trong đối tượng `Student` và `Course`.\n",
    "</details>\n",
    "\n",
    "<details>\n",
    "<summary>tóm tắt</summary>\n",
    "cập nhật cả EmbeddedId và thực thể Id\n",
    "</details>"
   ]
  },
  {
   "cell_type": "raw",
   "id": "810db5ac",
   "metadata": {
    "vscode": {
     "languageId": "raw"
    }
   },
   "source": [
    "clone : \n",
    "thuộc tính 'age' có ràng buộc A, \n",
    "đưa việc kiểm tra A của 'age' vào setter"
   ]
  },
  {
   "cell_type": "markdown",
   "id": "1307b565",
   "metadata": {},
   "source": [
    "trong thực tế người ta có khuyến khích tách riêng việc Fake dữ liệu ra khỏi StudentService và thành StudentFakingService không\n",
    "\n",
    "<details>\n",
    "<summary>Trả lời</summary>\n",
    "\n",
    "Trong thực tế, việc tách riêng các chức năng như **Fake dữ liệu** ra khỏi **StudentService** và chuyển nó sang một service khác như **StudentFakingService** có thể là một quyết định tốt trong một số trường hợp, đặc biệt trong môi trường phát triển phần mềm theo hướng mô-đun và dễ bảo trì. Dưới đây là một số lý do tại sao việc tách biệt này có thể hữu ích:\n",
    "\n",
    "### 1. **Dễ bảo trì và mở rộng**\n",
    "   Khi có một service riêng biệt chuyên về fake dữ liệu, việc duy trì và phát triển các tính năng liên quan đến việc giả lập dữ liệu sẽ dễ dàng hơn. Bạn có thể thêm hoặc thay đổi cách fake dữ liệu mà không làm ảnh hưởng đến logic chính của StudentService.\n",
    "\n",
    "### 2. **Giảm độ phức tạp (Separation of Concerns)**\n",
    "   Một trong những nguyên lý thiết kế phần mềm quan trọng là **separation of concerns** (phân tách các mối quan tâm). Nếu StudentService thực hiện nhiều chức năng, chẳng hạn như quản lý sinh viên và fake dữ liệu, nó có thể trở nên khó khăn trong việc bảo trì và kiểm thử. Việc tách fake dữ liệu thành một service riêng biệt giúp đảm bảo mỗi service có một nhiệm vụ rõ ràng.\n",
    "\n",
    "### 3. **Dễ kiểm thử (Testability)**\n",
    "   Khi fake dữ liệu được tách ra thành một service riêng biệt, việc kiểm thử logic của StudentService và StudentFakingService sẽ dễ dàng hơn. Bạn có thể dễ dàng mô phỏng dữ liệu giả trong các bài kiểm thử mà không làm ảnh hưởng đến các phần khác của hệ thống.\n",
    "\n",
    "### 4. **Tính tái sử dụng (Reusability)**\n",
    "   Nếu giả lập dữ liệu không chỉ được sử dụng trong StudentService mà còn có thể cần ở các nơi khác, thì việc tách nó thành một service riêng sẽ giúp tái sử dụng mã dễ dàng hơn mà không cần phải sao chép mã nguồn.\n",
    "\n",
    "### 5. **Dễ dàng thay đổi và mở rộng**\n",
    "   Việc giả lập dữ liệu có thể thay đổi trong tương lai (ví dụ, thay đổi cách thức fake dữ liệu hoặc sử dụng một nguồn dữ liệu giả khác). Nếu mã này được giữ trong một service riêng biệt, bạn có thể thay đổi mà không ảnh hưởng đến logic của StudentService.\n",
    "\n",
    "### Tuy nhiên, có một số yếu tố cần cân nhắc:\n",
    "- **Đơn giản hay phức tạp**: Nếu việc fake dữ liệu chỉ là một phần nhỏ và đơn giản của StudentService, có thể không cần phải tách ra thành một service riêng biệt. Việc tách dịch vụ có thể tạo ra sự phức tạp không cần thiết.\n",
    "- **Quy mô hệ thống**: Với hệ thống nhỏ, việc tách các service có thể không mang lại nhiều lợi ích, nhưng đối với hệ thống lớn, sự phân tách rõ ràng sẽ giúp dễ dàng duy trì và phát triển.\n",
    "\n",
    "### Tổng kết:\n",
    "Tóm lại, việc tách Fake dữ liệu thành **StudentFakingService** có thể là một chiến lược tốt trong trường hợp bạn muốn giữ cho mã nguồn sạch sẽ, dễ bảo trì, dễ kiểm thử và dễ mở rộng. Tuy nhiên, cần phải xem xét quy mô hệ thống và mức độ phức tạp của ứng dụng để quyết định liệu việc tách này có thực sự cần thiết hay không.\n",
    "</details>\n",
    "\n",
    "<details>\n",
    "<summary>ý kiến cá nhân</summary>\n",
    "\n",
    "khách hàng- đơn hàng- danh sách mặt hàng trong đơn\n",
    "\n",
    "fake đơn hàng= \n",
    "- cần get fake khách hàng\n",
    "\n",
    "nếu làm riêng biệt, \n",
    "- get N khách hàng random\n",
    "    - fake N đơn hàng từ mỗi khách hàng trong đó\n",
    "- get N đơn hàng random\n",
    "    - fake N \"mặt hàng trong đơn\" từ mỗi đơn hàng trong đó\n",
    "-> do chọn ngẫu nhiên nên có đơn hàng 0 sản phẩm\n",
    "\n",
    "làm lồng nhau\n",
    "\n",
    "/* xem bên dưới*/\n",
    "\n",
    "-> phải tái sử dụng \n",
    "service \"đơn hàng\".createRandom() sẽ gọi service \"mặt hàng trong đơn\".createRandom() \n",
    "service \"mặt hàng trong đơn\".createRandom() sẽ gọi service \"mặt hàng\".getRandom()\n",
    "\n",
    "-> faking phụ thuộc lẫn nhau (buộc chặt với nhau)\n",
    "-> tách riêng faking\n",
    "</details>"
   ]
  },
  {
   "cell_type": "code",
   "execution_count": null,
   "id": "fb4e44f8",
   "metadata": {
    "vscode": {
     "languageId": "java"
    }
   },
   "outputs": [],
   "source": [
    "create N \"đơn hàng\" cho N khách hàng : {\n",
    "    listKhachhang= choose random N \"khachHang\";\n",
    "\n",
    "    // create N đơn hàng cho 1 khách hàng\n",
    "    for(KhachHang kh : listKhachhang){ \n",
    "        donHang= create 1 DonHang from null;\n",
    "\n",
    "        listMatHang= choose random N \"MatHang\";\n",
    "\n",
    "        listMathangduocdat= new ArrayList;\n",
    "\n",
    "        // create N matHangDuocDat cho 1 đơn hàng\n",
    "        for(MatHang mh : listMathang){\n",
    "            mhdd1= create 1 MatHangDuocDat from (1 don hang, 1 mat hang)\n",
    "\n",
    "            listMathangduocdat.add(mhdd1);\n",
    "        }\n",
    "    }\n",
    "}"
   ]
  },
  {
   "cell_type": "code",
   "execution_count": null,
   "id": "35d249fa",
   "metadata": {
    "vscode": {
     "languageId": "java"
    }
   },
   "outputs": [],
   "source": [
    "create N KhachHang1 \n",
    "    - mỗi KhachHang1 có N DonHang1\n",
    "        - mỗi DonHang1 có N MatHangDuocDat1\n",
    "            - mỗi MatHangDuocDat1 có 1 MatHang;\n",
    "\n",
    "ngược lại\n",
    "- create N matHangDuocDat\n",
    "- create N donHang\n",
    "- create N KhachHang\n",
    "(không thành công, vì matHangDuocDat có đơn hàng là mẹ, phải fake mẹ từ trước)"
   ]
  },
  {
   "cell_type": "code",
   "execution_count": null,
   "id": "b87758ca",
   "metadata": {
    "vscode": {
     "languageId": "java"
    }
   },
   "outputs": [],
   "source": [
    "sai, \n",
    "\n",
    "chỉ quan hệ N-N mới cần lồng nhau như trên\n",
    "\n",
    "A <>----composite------ B\n",
    "\n",
    "A phải khởi tạo trước B"
   ]
  },
  {
   "cell_type": "code",
   "execution_count": null,
   "id": "c693fcff",
   "metadata": {
    "vscode": {
     "languageId": "java"
    }
   },
   "outputs": [],
   "source": [
    "kết luận\n",
    "\n",
    "phần nào không bị gửi khóa= phải tạo trước\n",
    "\n",
    "quan hệ N-N, 2 bảng mẹ có thể khởi tạo song song"
   ]
  },
  {
   "cell_type": "code",
   "execution_count": null,
   "id": "738f8d54",
   "metadata": {
    "vscode": {
     "languageId": "java"
    }
   },
   "outputs": [],
   "source": [
    "khởi tạo DB {\n",
    "\n",
    "    khởi tạo VanPhongDaiDien{\n",
    "        gọi faker_Vpdd();\n",
    "        gọi \"khởi tạo Cửa hàng\"\n",
    "        gọi \"khởi tạo Khách hàng\"\n",
    "    }\n",
    "\n",
    "    Khởi tạo MatHang{\n",
    "        gọi faker_MatHang();\n",
    "    }\n",
    "\n",
    "    //---------------------------------------------------\n",
    "\n",
    "\n",
    "\n",
    "    khởi tạo KHDL {\n",
    "        gọi getRandomKh();\n",
    "        gọi faker_Khdl();\n",
    "    }\n",
    "    khởi tạo KHBD{\n",
    "        gọi getRandomKh();\n",
    "        gọi faker_Khbd();\n",
    "    }\n",
    "}\n",
    "//---------------------------------------------------\n",
    "\n",
    "Khởi tạo KhachHang {\n",
    "    gọi findAllVpdd();\n",
    "    gọi \"khởi tạo DonDatHang\"\n",
    "}\n",
    "\n",
    "khởi tạo DonDatHang {\n",
    "    gọi findAllKhachhang();\n",
    "    gọi findRandomMathang();\n",
    "    gọi faker_MatHangDuocDat();\n",
    "}\n",
    "\n",
    "//---------------------------------------------------\n",
    "\n",
    "khởi tạo CuaHang {\n",
    "    gọi findAllVpdd();\n",
    "    gọi findRandomMathang();\n",
    "    gọi faker_MatHangDuocLuuTru();\n",
    "}\n"
   ]
  },
  {
   "cell_type": "code",
   "execution_count": null,
   "id": "059e4ed1",
   "metadata": {
    "vscode": {
     "languageId": "java"
    }
   },
   "outputs": [],
   "source": [
    "createAndSaveVanPhongDaiDienFullFeature (N) {\n",
    "    for(N times){\n",
    "        vpdd1= createAndSave1VanPhongDaiDien() ; \n",
    "        listCuaHang = createAndSaveCuaHangFullFeature(N2, vpdd);\n",
    "        listKhachHang = createAndSaveKhachHangFullFeature(N3, vpdd); \n",
    "    }\n",
    "}\n",
    "// 🔸🔸🔸🔸🔸🔸🔸🔸🔸🔸🔸🔸🔸🔸🔸🔸🔸🔸🔸🔸🔸🔸🔸🔸\n",
    "createAndSaveCuaHangFullFeature(N, vpdd){\n",
    "    for(N times){\n",
    "        ch1= createAndSave1CuaHang(vpdd);\n",
    "        listMhdlt= createAndSaveMhdltFullFeature(N2);\n",
    "    }\n",
    "}\n",
    "\n",
    "createAndSaveMhdltFullFeature(N1){\n",
    "    listMh= Repo.findMatHangRandom(soLuong= N1);\n",
    "\n",
    "    listMhdlt= null;\n",
    "\n",
    "    for(MatHang mh1 : listMh){\n",
    "        mhdlt1= createAndSave_1Mhdlt_From(mh1);\n",
    "\n",
    "        listMhdlt.add(mhdlt1);\n",
    "    }\n",
    "}\n",
    "// 🔹🔹🔹🔹🔹🔹🔹🔹🔹🔹🔹🔹🔹🔹🔹🔹🔹🔹🔹🔹🔹🔹🔹🔹\n",
    "create"
   ]
  },
  {
   "cell_type": "code",
   "execution_count": null,
   "id": "46e674a2",
   "metadata": {
    "vscode": {
     "languageId": "java"
    }
   },
   "outputs": [],
   "source": [
    "N*createMH{}\n",
    "\n",
    "N0*createVpdd{\n",
    "    N1*createKH{\n",
    "        create1Kh\n",
    "        createKhdl{};\n",
    "        createKhbd{};\n",
    "\n",
    "        N2*createDdh{\n",
    "            N3*createMhdd{\n",
    "                //...\n",
    "            }\n",
    "        }\n",
    "    };\n",
    "\n",
    "    N4*createCH{\n",
    "        create1CH\n",
    "\n",
    "        N5*createMhdlt{\n",
    "            // ...\n",
    "        }\n",
    "    };\n",
    "}"
   ]
  },
  {
   "cell_type": "code",
   "execution_count": null,
   "id": "37f88b9c",
   "metadata": {
    "vscode": {
     "languageId": "java"
    }
   },
   "outputs": [],
   "source": [
    "psvm main(){\n",
    "    createNhieuMh(N0);\n",
    "    createNhieuVpdd(N1);\n",
    "}\n",
    "//---------------------------------------\n",
    "createNhieuMh(N0){\n",
    "    for(N0 times){\n",
    "        create1MH();\n",
    "    }\n",
    "}\n",
    "// ---------------------------------------\n",
    "createNhieuVpdd(N0){\n",
    "    for(N0 times){\n",
    "        vpdd1= create1Vpdd();\n",
    "        createNhieuKh(from= vpdd1, N1);\n",
    "\n",
    "        createNhieuCh(from= vpdd1, N2);\n",
    "    }\n",
    "}\n",
    "// ------------------------------------\n",
    "createNhieuKh(from vpdd1, N0){\n",
    "    for(N0 times){\n",
    "        kh1= create1Kh(from= vpdd1);\n",
    "\n",
    "        createNhieuDdh(from= kh1, N1);\n",
    "    }\n",
    "}\n",
    "\n",
    "createNhieuCh(from vpdd1, N0){\n",
    "    for(N0 times){\n",
    "        ch1= create1Ch();\n",
    "        createNhieuMhdlt(from= ch1, N1);\n",
    "    }\n",
    "}\n",
    "\n",
    "//-------------------------------------------\n",
    "\n",
    "createNhieuDdh(from= kh1, N0){\n",
    "    for(N0 times){\n",
    "        ddh1= create1Ddh();\n",
    "\n",
    "        createNhieuMhdd(from= ddh1, N1);\n",
    "    }\n",
    "}\n",
    "//------------------------------------------\n",
    "\n",
    "createNhieuMhdlt(from= ch1, N0){\n",
    "    nhieuMhdlt= new ArrayList<>();\n",
    "\n",
    "    for(N0 times){\n",
    "        mh1= mh_Service.getRandom(1);\n",
    "        mhdlt1= mhdlt_Faker.createFake(mh1);\n",
    "\n",
    "        nhieuMhdlt.add(mhdlt1)\n",
    "    }\n",
    "}\n",
    "\n",
    "createNhieuMhdd(from= ddh1, N0){\n",
    "    nhieuMhdd= new ArrayList<>();\n",
    "\n",
    "    for(N0 times){\n",
    "        mh1= mh_Service.getRandom(1);\n",
    "\n",
    "        mhdd1= mhdd_Faker.createFake(mh1);\n",
    "\n",
    "        nhieuMhdd.add(mhdd1);\n",
    "    }\n",
    "}"
   ]
  },
  {
   "cell_type": "code",
   "execution_count": null,
   "id": "1ac184fc",
   "metadata": {
    "vscode": {
     "languageId": "java"
    }
   },
   "outputs": [],
   "source": [
    "// vì MatHang có sẵn nên có thể lấy 1 loạt từ DB\n",
    "// những cái khác phải create không thể lấy 1 loạt\n",
    "\n",
    "createNhieuMhdlt(from= ch1, N0){\n",
    "    nhieuMH= mh_Service.getRandom(N0);\n",
    "\n",
    "    nhieuMhdlt= mhdlt_Faker.createFake(nhieuMH);\n",
    "}\n",
    "\n",
    "createNhieuMhdd(from= ddh1, N0){\n",
    "    nhieuMH= mh_Service.getRandom(N0);\n",
    "\n",
    "    nhieuMhdd= mhdd_Faker.createFake(nhieuMH);\n",
    "}"
   ]
  },
  {
   "cell_type": "code",
   "execution_count": null,
   "id": "053f3cb6",
   "metadata": {
    "vscode": {
     "languageId": "java"
    }
   },
   "outputs": [],
   "source": [
    "create all MatHang\n",
    "\n",
    "create vpdd không có KH, không có CH \n",
    "\n",
    "for(all vpdd){\n",
    "    thêm KH không có Ddh;\n",
    "\n",
    "    thêm CH có Mhdlt\n",
    "}\n",
    "\n",
    "for(all KH){\n",
    "    thêm Ddh có chứa Mhdd\n",
    "}\n",
    "\n",
    "for(all CH){\n",
    "    thêm Mhdlt\n",
    "}\n",
    "\n",
    "//------- khởi tạo xong ------------\n",
    "\n",
    "\n",
    "create KH , có 1 đơn hàng, số MH= 4->7\n",
    "\n",
    "create 1 CH từ 1 thành phố ngẫu nhiên\n",
    "(không create 2+ cửa hàng, vì không giống thực)\n",
    "\n",
    "create 10 MatHang;\n",
    "\n"
   ]
  },
  {
   "cell_type": "code",
   "execution_count": null,
   "id": "c346a0c3",
   "metadata": {
    "vscode": {
     "languageId": "java"
    }
   },
   "outputs": [],
   "source": [
    "Cannot invoke \n",
    "\n",
    "\"com.example.demoKDLv1.Layer_Entity.MatHangDuocDat.MatHangDuocDat_Entity.MatHangDuocDat_Key.setDonDatHang_IdEmbedded(java.lang.Long)\" \n",
    "\n",
    "because the return value of \n",
    "\n",
    "\"com.example.demoKDLv1.Layer_Entity.MatHangDuocDat.MatHangDuocDat_Entity.\n",
    "\n",
    "MatHangDuocDat.getMhddKey()\" \n",
    "\n",
    "is null\n",
    "-----------------------------------------------\n",
    "\n",
    "\n",
    "/* kết luận= do chưa khởi tạo */\n",
    "\n",
    "new MhddKey()// dùng cái này ở hàm khởi tạo của entity\n"
   ]
  },
  {
   "cell_type": "code",
   "execution_count": null,
   "id": "584b5e14",
   "metadata": {
    "vscode": {
     "languageId": "java"
    }
   },
   "outputs": [],
   "source": [
    "No default constructor for entity \n",
    "\n",
    "'com.example.demoKDLv1.Layer_Entity.MatHangDuocDat.MatHangDuocDat_Entity.MatHangDuocDat'\n",
    "\n",
    "------------------------------------------------\n",
    "\n",
    "/* kết luận= do thiếu hàm KT mặc định, hàm KT mặc định là hàm KT rỗng */\n",
    "\n",
    "// https://stackoverflow.com/questions/4488716/java-default-constructor"
   ]
  },
  {
   "cell_type": "code",
   "execution_count": null,
   "id": "7377c1fb",
   "metadata": {
    "vscode": {
     "languageId": "java"
    }
   },
   "outputs": [],
   "source": [
    "No default constructor for entity 'com.example.demoKDLv1.Layer_Entity.MatHang.MatHang_Entity.MatHang'\n",
    "\n",
    "---------------------------------------\n",
    "/* kết luận= mọi enity phải có hàm KT mặc định (là hàm KT rỗng) */"
   ]
  },
  {
   "cell_type": "code",
   "execution_count": null,
   "id": "7e1ae1f1",
   "metadata": {
    "vscode": {
     "languageId": "java"
    }
   },
   "outputs": [],
   "source": [
    "Cannot invoke \"java.util.Set.add(Object)\" \n",
    "\n",
    "because \"this.listMhdd\" is null\n",
    "\n",
    "------------------------------------------------\n",
    "\n",
    "/* kết luận= phải khởi tạo this.listMhdd */\n",
    "this.listMhdd= new Set<>()"
   ]
  },
  {
   "cell_type": "markdown",
   "id": "845a6dfc",
   "metadata": {},
   "source": [
    "biến được khai báo đi kèm với giá trị trong class java thì hệ thống sẽ đối xử với nó như thế nào\n",
    "\n",
    "<details>\n",
    "\n",
    "Khi một đối tượng Person được tạo ra mà không có đối số, thì biến name sẽ có giá trị mặc định là \"John\".\n",
    "\n",
    "Nếu một đối tượng Person được tạo với tham số, thì giá trị name sẽ được thay thế bằng giá trị tham số.\n",
    "</details>"
   ]
  },
  {
   "cell_type": "code",
   "execution_count": null,
   "id": "4cd77430",
   "metadata": {
    "vscode": {
     "languageId": "java"
    }
   },
   "outputs": [],
   "source": [
    "There was an unexpected error \n",
    "(type=Internal Server Error, status=500).\n",
    "\n",
    "No message available\n",
    "\n",
    "java.util.ConcurrentModificationException\n",
    "\n",
    "---------------------------------------------------------\n",
    "// https://stackoverflow.com/questions/8104692/how-to-avoid-java-util-concurrentmodificationexception-when-iterating-through-an\n",
    "\n",
    "Hai lựa chọn:\n",
    "\n",
    "<!> Tạo danh sách các giá trị bạn muốn xóa, thêm vào danh sách đó trong vòng lặp, sau đó gọi <!> originalList.removeAll(valuesToRemove) <!> ở cuối\n",
    "\n",
    "Sử dụng remove()phương thức trên chính trình lặp. Lưu ý rằng điều này có nghĩa là bạn không thể sử dụng vòng lặp for nâng cao.\n"
   ]
  },
  {
   "cell_type": "code",
   "execution_count": null,
   "id": "f2e3a337",
   "metadata": {
    "vscode": {
     "languageId": "java"
    }
   },
   "outputs": [],
   "source": [
    "// thay thế\n",
    "\n",
    "public void appendListCuahang(List<CuaHang> listCh2){\n",
    "    this.\n",
    "}"
   ]
  }
 ],
 "metadata": {
  "kernelspec": {
   "display_name": "Python 3",
   "language": "python",
   "name": "python3"
  },
  "language_info": {
   "codemirror_mode": {
    "name": "ipython",
    "version": 3
   },
   "file_extension": ".py",
   "mimetype": "text/x-python",
   "name": "python",
   "nbconvert_exporter": "python",
   "pygments_lexer": "ipython3",
   "version": "3.13.2"
  }
 },
 "nbformat": 4,
 "nbformat_minor": 5
}
